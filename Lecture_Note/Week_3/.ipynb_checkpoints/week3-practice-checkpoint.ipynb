{
 "cells": [
  {
   "cell_type": "markdown",
   "metadata": {},
   "source": [
    "# Classification Practice\n",
    "## 과제 안내 \n",
    "- 답안을 작성하여 ipynb 파일로 구글 드라이브 \\[Assignment\\] - \\[개인 폴더\\]로 업로드하시면 됩니다.  \n",
    "- 출력 예시는 각 셀 하단에 수록되어 있습니다.\n",
    "- 출력 결과와 예시가 완전히 일치할 필요는 없습니다! 문제의 조건에만 부합하면 됩니다."
   ]
  },
  {
   "cell_type": "markdown",
   "metadata": {},
   "source": [
    "# Practice Introduction\n",
    "이번 시간에는 붓꽃(IRIS)의 측정 데이터를 활용하여 새로 채집한 붓꽃이 어떤 품종인지 예측할 수 있는 모델을 제작해봅니다.  \n",
    "\n",
    "과정은 아래와 같습니다.  \n",
    "1. 데이터셋 불러오기 및 확인: 붓꽃 데이터셋을 불러오고, 데이터셋의 구조를 파악합니다.  \n",
    "2. 데이터셋 분할: 모델 학습을 위해 불러온 데이터셋을 train data와 validation data로 분할합니다.  \n",
    "3. 모델 학습: 앞서 분할한 데이터를 이용해 모델을 학습시킵니다.  \n",
    "4. 모델 평가: 모델이 올바르게 학습하였는지, 평가해 봅시다.  \n",
    "\n"
   ]
  },
  {
   "cell_type": "markdown",
   "metadata": {},
   "source": [
    "# Practice"
   ]
  },
  {
   "cell_type": "markdown",
   "metadata": {},
   "source": [
    "## P.4-1 데이터셋 불러오기\n",
    "분류의 대표적인 문제로 \"붓꽃의 품종 분류\"가 있습니다.  \n",
    "위 문제의 목표는 붓꽃의 측정 데이터를 이용해 새로 채집한 붓꽃이 어떤 품종인지\n",
    "예측하여야 합니다.\n",
    "\n"
   ]
  },
  {
   "cell_type": "markdown",
   "metadata": {},
   "source": [
    "붓꽃 문제의 데이터셋은 scikit-learn의 datasets 모듈에 포함되어 있습니다. 본 데이터셋을 불러오겠습니다. \n",
    "\n",
    "> 붓꽃 이외에도 숫자 손글씨, 당뇨병 등 여러 데이터가 있으니 [링크](https://scikit-learn.org/stable/datasets/index.html)에서 한번 확인해보세요!"
   ]
  },
  {
   "cell_type": "code",
   "execution_count": 1,
   "metadata": {
    "tags": []
   },
   "outputs": [
    {
     "name": "stdout",
     "output_type": "stream",
     "text": [
      "--------keys----------\n",
      "dict_keys(['data', 'target', 'target_names', 'DESCR', 'feature_names', 'filename'])\n"
     ]
    }
   ],
   "source": [
    "from sklearn.datasets import load_iris #import IRIS datasets\n",
    "iris_dataset = load_iris()\n",
    "print('--------keys----------')\n",
    "print(iris_dataset.keys())"
   ]
  },
  {
   "cell_type": "markdown",
   "metadata": {},
   "source": [
    "## P.4-1-1\n",
    "- DESCR key에는 데이터셋의 설명이 담겨있습니다. 이를 출력하여 데이터셋 설명을 확인해 봅시다."
   ]
  },
  {
   "cell_type": "code",
   "execution_count": 2,
   "metadata": {
    "tags": []
   },
   "outputs": [
    {
     "name": "stdout",
     "output_type": "stream",
     "text": [
      ".. _iris_dataset:\n",
      "\n",
      "Iris plants dataset\n",
      "--------------------\n",
      "\n",
      "**Data Set Characteristics:**\n",
      "\n",
      "    :Number of Instances: 150 (50 in each of three classes)\n",
      "    :Number of Attributes: 4 numeric, predictive attributes and the class\n",
      "    :Attribute Information:\n",
      "        - sepal length in cm\n",
      "        - sepal width in cm\n",
      "        - petal length in cm\n",
      "        - petal width in cm\n",
      "        - class:\n",
      "                - Iris-Setosa\n",
      "                - Iris-Versicolour\n",
      "                - Iris-Virginica\n",
      "                \n",
      "    :Summary Statistics:\n",
      "\n",
      "    ============== ==== ==== ======= ===== ====================\n",
      "                    Min  Max   Mean    SD   Class Correlation\n",
      "    ============== ==== ==== ======= ===== ====================\n",
      "    sepal length:   4.3  7.9   5.84   0.83    0.7826\n",
      "    sepal width:    2.0  4.4   3.05   0.43   -0.4194\n",
      "    petal length:   1.0  6.9   3.76   1.76    0.9490  (high!)\n",
      "    petal width:    0.1  2.5   1.20   0.76    0.9565  (high!)\n",
      "    ============== ==== ==== ======= ===== ====================\n",
      "\n",
      "    :Missing Attribute Values: None\n",
      "    :Class Distribution: 33.3% for each of 3 classes.\n",
      "    :Creator: R.A. Fisher\n",
      "    :Donor: Michael Marshall (MARSHALL%PLU@io.arc.nasa.gov)\n",
      "    :Date: July, 1988\n",
      "\n",
      "The famous Iris database, first used by Sir R.A. Fisher. The dataset is taken\n",
      "from Fisher's paper. Note that it's the same as in R, but not as in the UCI\n",
      "Machine Learning Repository, which has two wrong data points.\n",
      "\n",
      "This is perhaps the best known database to be found in the\n",
      "pattern recognition literature.  Fisher's paper is a classic in the field and\n",
      "is referenced frequently to this day.  (See Duda & Hart, for example.)  The\n",
      "data set contains 3 classes of 50 instances each, where each class refers to a\n",
      "type of iris plant.  One class is linearly separable from the other 2; the\n",
      "latter are NOT linearly separable from each other.\n",
      "\n",
      ".. topic:: References\n",
      "\n",
      "   - Fisher, R.A. \"The use of multiple measurements in taxonomic problems\"\n",
      "     Annual Eugenics, 7, Part II, 179-188 (1936); also in \"Contributions to\n",
      "     Mathematical Statistics\" (John Wiley, NY, 1950).\n",
      "   - Duda, R.O., & Hart, P.E. (1973) Pattern Classification and Scene Analysis.\n",
      "     (Q327.D83) John Wiley & Sons.  ISBN 0-471-22361-1.  See page 218.\n",
      "   - Dasarathy, B.V. (1980) \"Nosing Around the Neighborhood: A New System\n",
      "     Structure and Classification Rule for Recognition in Partially Exposed\n",
      "     Environments\".  IEEE Transactions on Pattern Analysis and Machine\n",
      "     Intelligence, Vol. PAMI-2, No. 1, 67-71.\n",
      "   - Gates, G.W. (1972) \"The Reduced Nearest Neighbor Rule\".  IEEE Transactions\n",
      "     on Information Theory, May 1972, 431-433.\n",
      "   - See also: 1988 MLC Proceedings, 54-64.  Cheeseman et al\"s AUTOCLASS II\n",
      "     conceptual clustering system finds 3 classes in the data.\n",
      "   - Many, many more ...\n"
     ]
    }
   ],
   "source": [
    "### P.4-1-1\n",
    "print(iris_dataset[\"DESCR\"])\n",
    "###"
   ]
  },
  {
   "cell_type": "markdown",
   "metadata": {},
   "source": [
    "### P.4-1-1 Comment\n",
    "본 데이터셋에는 꽃받침의 길이, 너비 정보와 꽃잎의 길이, 너비 정보가 주어집니다.  \n",
    " 그리고 Setosa, Versicolor, Virginica 3종류의 꽃이 Labeling 되어 있습니다."
   ]
  },
  {
   "cell_type": "markdown",
   "metadata": {},
   "source": [
    "## P.4-1-2  \n",
    "- 본 데이터셋의 target과 target name을 출력해봅시다."
   ]
  },
  {
   "cell_type": "code",
   "execution_count": 3,
   "metadata": {
    "tags": []
   },
   "outputs": [
    {
     "name": "stdout",
     "output_type": "stream",
     "text": [
      "[0 0 0 0 0 0 0 0 0 0 0 0 0 0 0 0 0 0 0 0 0 0 0 0 0 0 0 0 0 0 0 0 0 0 0 0 0\n",
      " 0 0 0 0 0 0 0 0 0 0 0 0 0 1 1 1 1 1 1 1 1 1 1 1 1 1 1 1 1 1 1 1 1 1 1 1 1\n",
      " 1 1 1 1 1 1 1 1 1 1 1 1 1 1 1 1 1 1 1 1 1 1 1 1 1 1 2 2 2 2 2 2 2 2 2 2 2\n",
      " 2 2 2 2 2 2 2 2 2 2 2 2 2 2 2 2 2 2 2 2 2 2 2 2 2 2 2 2 2 2 2 2 2 2 2 2 2\n",
      " 2 2]\n",
      "['setosa' 'versicolor' 'virginica']\n"
     ]
    }
   ],
   "source": [
    "### P.4-1-2\n",
    "print(iris_dataset[\"target\"])\n",
    "print(iris_dataset[\"target_names\"])\n",
    "\n",
    "###"
   ]
  },
  {
   "cell_type": "markdown",
   "metadata": {},
   "source": [
    "## P.4-TIPS-1\n",
    "모델을 만들기 전에 어떤 모델이 적합할지, 주어진 데이터가 유효한지, 누락된 값은 없는지 등등 데이터를 분석하고 전처리하는 과정이 필요합니다.  \n",
    "하지만 이번 Practice에서는 본 과정을 생략하겠습니다.  \n",
    "대신 산점도 행렬(Scatter matrix)을 이용하여 데이터셋의 feature들을 시각화하여 데이터를 살펴보겠습니다."
   ]
  },
  {
   "cell_type": "code",
   "execution_count": 4,
   "metadata": {},
   "outputs": [
    {
     "data": {
      "text/plain": [
       "array([[<matplotlib.axes._subplots.AxesSubplot object at 0x000001B3BF14C4E0>,\n",
       "        <matplotlib.axes._subplots.AxesSubplot object at 0x000001B3BDD85C50>,\n",
       "        <matplotlib.axes._subplots.AxesSubplot object at 0x000001B3BF42F9B0>,\n",
       "        <matplotlib.axes._subplots.AxesSubplot object at 0x000001B3BF457F28>],\n",
       "       [<matplotlib.axes._subplots.AxesSubplot object at 0x000001B3BF4884E0>,\n",
       "        <matplotlib.axes._subplots.AxesSubplot object at 0x000001B3BF4B0A58>,\n",
       "        <matplotlib.axes._subplots.AxesSubplot object at 0x000001B3BF4D8FD0>,\n",
       "        <matplotlib.axes._subplots.AxesSubplot object at 0x000001B3BF5055C0>],\n",
       "       [<matplotlib.axes._subplots.AxesSubplot object at 0x000001B3BF5055F8>,\n",
       "        <matplotlib.axes._subplots.AxesSubplot object at 0x000001B3BF5600B8>,\n",
       "        <matplotlib.axes._subplots.AxesSubplot object at 0x000001B3BF585630>,\n",
       "        <matplotlib.axes._subplots.AxesSubplot object at 0x000001B3BF5ADBA8>],\n",
       "       [<matplotlib.axes._subplots.AxesSubplot object at 0x000001B3BF5E0160>,\n",
       "        <matplotlib.axes._subplots.AxesSubplot object at 0x000001B3BF6066D8>,\n",
       "        <matplotlib.axes._subplots.AxesSubplot object at 0x000001B3BF62EC50>,\n",
       "        <matplotlib.axes._subplots.AxesSubplot object at 0x000001B3BF65F208>]],\n",
       "      dtype=object)"
      ]
     },
     "execution_count": 4,
     "metadata": {},
     "output_type": "execute_result"
    }
   ],
   "source": [
    "import pandas as pd\n",
    "y_train = iris_dataset[\"target\"]\n",
    "X_train = iris_dataset[\"data\"]\n",
    "\n",
    "iris_df = pd.DataFrame(X_train, columns=iris_dataset.feature_names)\n",
    "pd.plotting.scatter_matrix(iris_df, c=y_train, figsize=(10, 10))"
   ]
  },
  {
   "cell_type": "markdown",
   "metadata": {},
   "source": [
    "## P.4-TIPS-1-Comment\n",
    "시각화 결과 품종별로 feature가 잘 구분되는 것을 확인할 수 있습니다.  \n",
    "이제 이 feature 들을 이용하여 모델을 학습시켜 봅시다. "
   ]
  },
  {
   "cell_type": "markdown",
   "metadata": {},
   "source": [
    "## P.4-2\n",
    "본격적으로 머신러닝 모델을 만들기 전에 데이터셋을 **train data**와 **valiadation data**로 나누어야 합니다.\n",
    "train/validation/test 데이터가 무엇인지는 [링크](https://lsjsj92.tistory.com/545)를 참고해주세요.\n",
    "\n",
    "\n",
    "Scikit-learn의 train_test_split 함수를 사용하면 편하게 데이터셋을 분할할 수 있습니다.  \n",
    "\n",
    "- iris_dataset을 x_train, x_test, y_train, y_test로 나누어봅시다.\n",
    "\n"
   ]
  },
  {
   "cell_type": "code",
   "execution_count": 5,
   "metadata": {
    "tags": []
   },
   "outputs": [
    {
     "name": "stdout",
     "output_type": "stream",
     "text": [
      "x_train-------\n",
      "[[6.  2.2 4.  1. ]\n",
      " [5.6 2.9 3.6 1.3]\n",
      " [5.4 3.  4.5 1.5]\n",
      " [4.9 3.  1.4 0.2]\n",
      " [6.1 3.  4.6 1.4]]\n",
      "x_test-------\n",
      "[[5.5 2.6 4.4 1.2]\n",
      " [6.3 3.4 5.6 2.4]\n",
      " [5.6 3.  4.5 1.5]\n",
      " [5.1 3.5 1.4 0.2]\n",
      " [5.  3.5 1.3 0.3]]\n",
      "y_train-------\n",
      "[1 1 1 0 1]\n",
      "y_test-------\n",
      "[1 2 1 0 0]\n"
     ]
    }
   ],
   "source": [
    "from sklearn.model_selection import train_test_split\n",
    "### P.4-2\n",
    "x = iris_dataset[\"data\"]\n",
    "y = iris_dataset[\"target\"]\n",
    "x_train, x_test, y_train, y_test = train_test_split(x,y)\n",
    "###\n",
    "print(\"x_train-------\")\n",
    "print(x_train[:5])\n",
    "print(\"x_test-------\")\n",
    "print(x_test[:5])\n",
    "print(\"y_train-------\")\n",
    "print(y_train[:5])\n",
    "print(\"y_test-------\")\n",
    "print(y_test[:5])"
   ]
  },
  {
   "cell_type": "markdown",
   "metadata": {},
   "source": [
    "## P.4-3-1\n",
    "Logistic Regression를 이용하여 예측 모델을 제작해 봅시다.\n",
    "- logistic_clf의 이름으로 Logistic Regression 모델을 생성해봅시다."
   ]
  },
  {
   "cell_type": "code",
   "execution_count": 6,
   "metadata": {},
   "outputs": [
    {
     "data": {
      "text/plain": [
       "LogisticRegression(C=1.0, class_weight=None, dual=False, fit_intercept=True,\n",
       "          intercept_scaling=1, max_iter=100, multi_class='auto',\n",
       "          n_jobs=None, penalty='l2', random_state=None, solver='liblinear',\n",
       "          tol=0.0001, verbose=0, warm_start=False)"
      ]
     },
     "execution_count": 6,
     "metadata": {},
     "output_type": "execute_result"
    }
   ],
   "source": [
    "from sklearn.linear_model import LogisticRegression\n",
    "### P.4-3-1\n",
    "logistic_clf = LogisticRegression(solver = 'liblinear', multi_class = 'auto')\n",
    "###\n",
    "logistic_clf"
   ]
  },
  {
   "cell_type": "markdown",
   "metadata": {},
   "source": [
    "## P.4-3-2\n",
    "- train 데이터를 이용하여 logistic_clf 모델을 학습시켜 봅시다. "
   ]
  },
  {
   "cell_type": "code",
   "execution_count": 7,
   "metadata": {},
   "outputs": [
    {
     "data": {
      "text/plain": [
       "LogisticRegression(C=1.0, class_weight=None, dual=False, fit_intercept=True,\n",
       "          intercept_scaling=1, max_iter=100, multi_class='auto',\n",
       "          n_jobs=None, penalty='l2', random_state=None, solver='liblinear',\n",
       "          tol=0.0001, verbose=0, warm_start=False)"
      ]
     },
     "execution_count": 7,
     "metadata": {},
     "output_type": "execute_result"
    }
   ],
   "source": [
    "### P.4-3-2\n",
    "logistic_clf.fit(x_train,y_train)\n",
    "###"
   ]
  },
  {
   "cell_type": "markdown",
   "metadata": {},
   "source": [
    "## P.4-3-3\n",
    "모델의 학습이 잘 진행되었을까요?  한번 간단하게 확인해봅시다!\n",
    "우선 모델이 첫번째 test 데이터를 어떻게 분류하는지 확인해봅시다.\n",
    "- 첫번째 test 데이터의 품종 분류(예측) 결과를 y_pred_example에 저장합니다.\n",
    "- 첫번째 test 데이터의 실제 품종을 y_ans_example에 저장합니다.\n"
   ]
  },
  {
   "cell_type": "code",
   "execution_count": 8,
   "metadata": {
    "tags": []
   },
   "outputs": [
    {
     "name": "stdout",
     "output_type": "stream",
     "text": [
      "1\n",
      "1\n"
     ]
    }
   ],
   "source": [
    "### P.4-3-3\n",
    "y_pred_example = logistic_clf.predict(x_test)[0]\n",
    "y_ans_example = y_test[0]\n",
    "###\n",
    "print(y_pred_example)\n",
    "print(y_ans_example)"
   ]
  },
  {
   "cell_type": "markdown",
   "metadata": {},
   "source": [
    "## P.4-3-4  \n",
    "위 과정에서 모델이 붓꽃 품종을 올바르게 분류하였나요?  \n",
    "이번에는 모델의 정확도로 알아봅시다! 정확도는 전체 예측 건수에서 정답인 건수의 비율입니다.  \n",
    "scikit-learn에서는 score 함수로 간단하게 정확도를 알 수 있습니다.  \n",
    "logistic_clf의 정확도를 logistic_score에 저장해봅시다 "
   ]
  },
  {
   "cell_type": "code",
   "execution_count": 9,
   "metadata": {
    "tags": []
   },
   "outputs": [
    {
     "name": "stdout",
     "output_type": "stream",
     "text": [
      "Accuracy:  0.9473684210526315\n"
     ]
    }
   ],
   "source": [
    "### P.4-3-4\n",
    "logistic_score = logistic_clf.score(x_test,y_test)\n",
    "###\n",
    "print(\"Accuracy: \", logistic_score)"
   ]
  },
  {
   "cell_type": "markdown",
   "metadata": {},
   "source": []
  },
  {
   "cell_type": "markdown",
   "metadata": {},
   "source": [
    "## P.4-TIPS-2\n",
    "머신러닝 과정에 있어서 모델의 평가는 모델의 학습만큼이나 매우 중요합니다.  \n",
    "모델의 평가를 통해 이 모델이 적절한지, 모델의 학습이 잘 이루어졌는지, hyperparameter를 어떻게 조정할지 등등을 결정할 수 있습니다.  \n",
    "하지만 정확도(Accuracy)만으로 모델을 평가할 수는 없습니다. 그 이유는 무엇일까요? \n",
    "- [링크](https://velog.io/@skyepodium/%EB%B6%84%EB%A5%98-%EB%AA%A8%EB%8D%B8-%ED%8F%89%EA%B0%80-%EB%B0%A9%EB%B2%95)에서 모델을 평가하는 지표인 accuracy, precision, f1 score 등에 대해서 알아봅시다. \n",
    "- 또한 [링크](https://m.blog.naver.com/PostView.nhn?blogId=ckdgus1433&logNo=221599517834&proxyReferer=https:%2F%2Fwww.google.com%2F)에서 모델 평가에 사용되는 기법인 교차 검증(Cross-Validation)에 대해서도 알아봅시다.\n",
    "\n",
    "\n",
    "\n"
   ]
  },
  {
   "cell_type": "markdown",
   "metadata": {},
   "source": [
    "## P.4-3-5\n",
    "- 앞서 만든 logistic_clf 모델에 대해서 5번의 k-fold 교차검증을 시행하고, 각 단계에서의 accuracy를 출력하여 봅시다.\n",
    "- 각 단계에서의 accuracy의 평균을 출력하여 봅시다. "
   ]
  },
  {
   "cell_type": "code",
   "execution_count": 10,
   "metadata": {
    "tags": []
   },
   "outputs": [
    {
     "name": "stdout",
     "output_type": "stream",
     "text": [
      "[0.95833333 0.91304348 0.95454545 0.95454545 0.95238095]\n",
      "0.9465697346132128\n"
     ]
    }
   ],
   "source": [
    "### P.4-3-5\n",
    "from sklearn.model_selection import cross_val_score\n",
    "scores = cross_val_score(logistic_clf,x_train,y_train,cv = 5)\n",
    "print(scores)\n",
    "print(scores.mean())\n",
    "###"
   ]
  },
  {
   "cell_type": "markdown",
   "metadata": {},
   "source": [
    "## P.4-3-6   \n",
    "logistic_clf 모델의 혼동 행렬(confusion Matrix)를 그려봅시다.  \n",
    "혼돈 행렬에 대한 설명은 (링크)[https://m.blog.naver.com/kmkim1222/220106232149]를 참고해주세요.  \n",
    "더불어 seaborn의 heatmap을 이용하여 보기 좋게 시각화하여 봅시다!"
   ]
  },
  {
   "cell_type": "code",
   "execution_count": 26,
   "metadata": {},
   "outputs": [
    {
     "data": {
      "image/png": "[encoded data removed]",
      "text/plain": [
       "<Figure size 432x288 with 2 Axes>"
      ]
     },
     "metadata": {
      "needs_background": "light"
     },
     "output_type": "display_data"
    }
   ],
   "source": [
    "### P.4-3-6\n",
    "import matplotlib.pyplot as plt\n",
    "from sklearn import metrics \n",
    "import seaborn as sns\n",
    "\n",
    "\n",
    "pred = logistic_clf.predict(x_test)\n",
    "cm = confusion_matrix(y_test, pred)\n",
    "sns.heatmap(cm, annot=True, fmt='d')\n",
    "plt.title('Confusion matrix of the classifier')\n",
    "plt.pcolor(cm)\n",
    "plt.show()\n",
    "\n",
    "### P.4-3-6"
   ]
  },
  {
   "cell_type": "markdown",
   "metadata": {},
   "source": [
    "## P.4-3-7\n",
    "- logistic_clf 모델의 accuracy, precision, recall, f1 score를 구해 봅시다. 이때 macro average를 이용합니다.\n",
    "\n",
    "macro average와 micro average 설명은 [링크](https://unlimitedpower.tistory.com/entry/IR-%EB%A7%88%EC%9D%B4%ED%81%AC%EB%A1%9C-%ED%8F%89%EA%B7%A0Micro-average-%EB%A7%A4%ED%81%AC%EB%A1%9C-%ED%8F%89%EA%B7%A0Macro-average-%EC%9D%B4%EB%9E%80-%EB%AC%B4%EC%97%87%EC%9D%B8%EA%B0%80)를 참고해주세요."
   ]
  },
  {
   "cell_type": "code",
   "execution_count": 30,
   "metadata": {
    "tags": []
   },
   "outputs": [
    {
     "name": "stdout",
     "output_type": "stream",
     "text": [
      "accuracy_score:  0.9473684210526315\n",
      "precision_score:  0.9583333333333334\n",
      "recall_score:  0.9393939393939394\n",
      "f1_score:  0.9444444444444443\n"
     ]
    }
   ],
   "source": [
    "### P.4-3-7\n",
    "acc_score  = metrics.accuracy_score(y_test, pred)\n",
    "prec_score  = metrics.precision_score(y_test, pred, average = 'macro')\n",
    "rec_score  = metrics.recall_score(y_test, pred, average = 'macro')\n",
    "f1_score  = metrics.f1_score(y_test, pred, average = 'macro')\n",
    "###\n",
    "print(\"accuracy_score: \", acc_score)\n",
    "print(\"precision_score: \", prec_score)\n",
    "print(\"recall_score: \", rec_score)\n",
    "print(\"f1_score: \", f1_score)"
   ]
  },
  {
   "cell_type": "markdown",
   "metadata": {},
   "source": [
    "## P.4-4\n",
    "- 앞서 배운 분류 알고리즘 SVM, Decision Tree, KNN에 대해서도 위 모델 학습/평가 과정을 시행해봅시다.\n",
    "- 붓꽃 분류 문제에서는 어떤 모델이 가장 적합할까요? 한번 찾아봅시다! "
   ]
  },
  {
   "cell_type": "code",
   "execution_count": 47,
   "metadata": {},
   "outputs": [
    {
     "name": "stdout",
     "output_type": "stream",
     "text": [
      "svm 평균점수 :  0.9822134387351777\n",
      "DTC 평균점수 :  0.9469320534537926\n",
      "KNN 평균점수 :  0.9639939770374554\n"
     ]
    }
   ],
   "source": [
    "from sklearn import svm\n",
    "from sklearn.tree import DecisionTreeClassifier\n",
    "from sklearn.neighbors import KNeighborsClassifier\n",
    "\n",
    "svm_clf = svm.SVC(kernel = 'linear')\n",
    "svm_clf.fit(x_train,y_train)\n",
    "svm_clf.score(x_test,y_test)\n",
    "svm_scores = cross_val_score(svm_clf,x_train,y_train,cv = 5)\n",
    "print('svm 평균점수 : ',svm_scores.mean())\n",
    "\n",
    "DTC_clf = DecisionTreeClassifier(random_state = 0)\n",
    "DTC_clf.fit(x_train, y_train)\n",
    "DTC_clf.score(x_test,y_test)\n",
    "DTC_scores = cross_val_score(DTC_clf,x_train,y_train,cv = 5)\n",
    "print('DTC 평균점수 : ',DTC_scores.mean())\n",
    "\n",
    "KNN_clf = KNeighborsClassifier()\n",
    "KNN_clf.fit(x_train, y_train)\n",
    "KNN_clf.score(x_test,y_test)\n",
    "KNN_scores = cross_val_score(KNN_clf,x_train,y_train,cv = 5)\n",
    "print('KNN 평균점수 : ',KNN_scores.mean())\n"
   ]
  }
 ],
 "metadata": {
  "kernelspec": {
   "display_name": "Python 3",
   "language": "python",
   "name": "python3"
  },
  "language_info": {
   "codemirror_mode": {
    "name": "ipython",
    "version": 3
   },
   "file_extension": ".py",
   "mimetype": "text/x-python",
   "name": "python",
   "nbconvert_exporter": "python",
   "pygments_lexer": "ipython3",
   "version": "3.7.3"
  }
 },
 "nbformat": 4,
 "nbformat_minor": 2
}
