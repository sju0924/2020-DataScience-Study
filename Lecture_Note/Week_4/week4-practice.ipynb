{
 "cells": [
  {
   "cell_type": "markdown",
   "metadata": {},
   "source": [
    "# Regression Practice\n",
    "## 과제 안내 \n",
    "- 답안을 작성하여 ipynb 파일로 구글 드라이브 \\[Assignment\\] - \\[개인 폴더\\]로 업로드하시면 됩니다.  \n",
    "- 출력 예시는 각 셀 하단에 수록되어 있습니다.\n",
    "- 출력 결과와 예시가 완전히 일치할 필요는 없습니다! 문제의 조건에만 부합하면 됩니다."
   ]
  },
  {
   "cell_type": "markdown",
   "metadata": {},
   "source": [
    "# Practice Introduction\n",
    "이번 시간에는 캘리포니아 주택 가격 데이터를 활용하여 주택 정보가 주어지면 그것을 활용하여 주택 가격을 예측해봅시다.\n",
    "\n",
    "과정은 아래와 같습니다.  \n",
    "1. 데이터셋 불러오기 및 확인: 주택 가격 데이터셋을 불러오고, 데이터셋의 구조를 파악합니다.  \n",
    "2. 데이터셋 분할: 모델 학습을 위해 불러온 데이터셋을 train data와 validation data로 분할합니다.  \n",
    "3. 모델 학습: 앞서 분할한 데이터를 이용해 모델을 학습시킵니다.  \n",
    "4. 모델 평가: 모델이 올바르게 학습하였는지, 평가해 봅시다.  \n",
    "\n"
   ]
  },
  {
   "cell_type": "markdown",
   "metadata": {},
   "source": [
    "# Practice"
   ]
  },
  {
   "cell_type": "markdown",
   "metadata": {},
   "source": [
    "## P.5-1 데이터셋 불러오기\n",
    "\n"
   ]
  },
  {
   "cell_type": "markdown",
   "metadata": {},
   "source": [
    "주택 가격 문제의 데이터셋은 scikit-learn의 datasets 모듈에 포함되어 있습니다. 본 데이터셋을 불러오겠습니다. "
   ]
  },
  {
   "cell_type": "code",
   "execution_count": 1,
   "metadata": {},
   "outputs": [],
   "source": [
    "import numpy as np\n",
    "import matplotlib.pyplot as plt\n",
    "import seaborn as sns\n",
    "from sklearn.linear_model import LinearRegression\n",
    "from sklearn.model_selection import train_test_split\n",
    "from sklearn.datasets import fetch_california_housing"
   ]
  },
  {
   "cell_type": "code",
   "execution_count": 2,
   "metadata": {
    "scrolled": true,
    "tags": []
   },
   "outputs": [
    {
     "name": "stderr",
     "output_type": "stream",
     "text": [
      "Downloading Cal. housing from https://ndownloader.figshare.com/files/5976036 to C:\\Users\\Administrator\\scikit_learn_data\n"
     ]
    },
    {
     "name": "stdout",
     "output_type": "stream",
     "text": [
      "keys---------------------\n",
      "\n",
      "dict_keys(['data', 'target', 'feature_names', 'DESCR'])\n",
      "DESCR---------------------\n",
      "\n",
      ".. _california_housing_dataset:\n",
      "\n",
      "California Housing dataset\n",
      "--------------------------\n",
      "\n",
      "**Data Set Characteristics:**\n",
      "\n",
      "    :Number of Instances: 20640\n",
      "\n",
      "    :Number of Attributes: 8 numeric, predictive attributes and the target\n",
      "\n",
      "    :Attribute Information:\n",
      "        - MedInc        median income in block\n",
      "        - HouseAge      median house age in block\n",
      "        - AveRooms      average number of rooms\n",
      "        - AveBedrms     average number of bedrooms\n",
      "        - Population    block population\n",
      "        - AveOccup      average house occupancy\n",
      "        - Latitude      house block latitude\n",
      "        - Longitude     house block longitude\n",
      "\n",
      "    :Missing Attribute Values: None\n",
      "\n",
      "This dataset was obtained from the StatLib repository.\n",
      "http://lib.stat.cmu.edu/datasets/\n",
      "\n",
      "The target variable is the median house value for California districts.\n",
      "\n",
      "This dataset was derived from the 1990 U.S. census, using one row per census\n",
      "block group. A block group is the smallest geographical unit for which the U.S.\n",
      "Census Bureau publishes sample data (a block group typically has a population\n",
      "of 600 to 3,000 people).\n",
      "\n",
      "It can be downloaded/loaded using the\n",
      ":func:`sklearn.datasets.fetch_california_housing` function.\n",
      "\n",
      ".. topic:: References\n",
      "\n",
      "    - Pace, R. Kelley and Ronald Barry, Sparse Spatial Autoregressions,\n",
      "      Statistics and Probability Letters, 33 (1997) 291-297\n",
      "\n"
     ]
    }
   ],
   "source": [
    "housing_dataset = fetch_california_housing()\n",
    "print(\"keys---------------------\\n\")\n",
    "print(housing_dataset.keys())\n",
    "print(\"DESCR---------------------\\n\")\n",
    "print(housing_dataset['DESCR'])"
   ]
  },
  {
   "cell_type": "markdown",
   "metadata": {
    "tags": []
   },
   "source": [
    "## P.5-1\n",
    "선형회귀(Linear Regression) 분석을 위해 한가지 feature를 선정합니다.  \n",
    "방의 개수(AveRooms)가 많을수록 집의 가격이 높아지지 않을까요?  \n",
    "한번 산점도(Scatter plot)으로 시각화하여 확인해 봅시다!  "
   ]
  },
  {
   "cell_type": "code",
   "execution_count": 96,
   "metadata": {
    "scrolled": false,
    "tags": []
   },
   "outputs": [
    {
     "data": {
      "image/png": "[encoded data removed]",
      "text/plain": [
       "<Figure size 432x288 with 1 Axes>"
      ]
     },
     "metadata": {
      "needs_background": "light"
     },
     "output_type": "display_data"
    }
   ],
   "source": [
    "### P.5-1\n",
    "import pandas as pd\n",
    "housing_df = pd.DataFrame(data = housing_dataset.data, columns = housing_dataset.feature_names)\n",
    "housing_df['value'] = housing_dataset.target\n",
    "plt.scatter(x = housing_df['AveRooms'], y =housing_df['value'])\n",
    "plt.xlabel('AveRooms')\n",
    "plt.ylabel('Value')\n",
    "plt.show()\n",
    "###"
   ]
  },
  {
   "cell_type": "markdown",
   "metadata": {
    "tags": []
   },
   "source": [
    "## P.5-2\n",
    "모델 학습을 위해 AveRooms Feature를 사용합시다!  \n",
    "AveRooms Feature를 x, target을 y로 가지는 학습 데이터를 만들어봅시다.\n",
    "- iris_dataset을 x_train, x_test, y_train, y_test로 나누어봅시다."
   ]
  },
  {
   "cell_type": "code",
   "execution_count": 97,
   "metadata": {},
   "outputs": [],
   "source": [
    "### P.5-2\n",
    "X = housing_df['AveRooms']\n",
    "y = housing_df['value']\n",
    "x_train, x_test, y_train, y_test = train_test_split(X,y)\n",
    "###"
   ]
  },
  {
   "cell_type": "markdown",
   "metadata": {},
   "source": [
    "## P.5-3\n",
    "선형 회귀(Linear Regression) 모델을 생성해 봅시다.\n"
   ]
  },
  {
   "cell_type": "code",
   "execution_count": 64,
   "metadata": {},
   "outputs": [],
   "source": [
    "### P.5-4\n",
    "housing_line = LinearRegression()\n",
    "###"
   ]
  },
  {
   "cell_type": "code",
   "execution_count": 65,
   "metadata": {},
   "outputs": [
    {
     "data": {
      "text/plain": [
       "LinearRegression(copy_X=True, fit_intercept=True, n_jobs=None,\n",
       "         normalize=False)"
      ]
     },
     "execution_count": 65,
     "metadata": {},
     "output_type": "execute_result"
    }
   ],
   "source": [
    "### P.5-4\n",
    "housing_line.fit(x_train.values.reshape(-1,1), y_train)\n",
    "###"
   ]
  },
  {
   "cell_type": "markdown",
   "metadata": {},
   "source": [
    "## P.5-5\n",
    "모델의 학습이 잘 진행되었는지 확인해봅시다!  \n",
    "첫번째 test 데이터의 집 값을 예측해봅시다."
   ]
  },
  {
   "cell_type": "code",
   "execution_count": 66,
   "metadata": {},
   "outputs": [
    {
     "data": {
      "text/plain": [
       "2.0133070461590084"
      ]
     },
     "execution_count": 66,
     "metadata": {},
     "output_type": "execute_result"
    }
   ],
   "source": [
    "### P.5-5\n",
    "housing_line.predict(x_test.values.reshape(-1,1))[0]\n",
    "###"
   ]
  },
  {
   "cell_type": "markdown",
   "metadata": {},
   "source": [
    "## P.5-6\n",
    "생성한 선형 회귀 모델을 그래프로 시각화하여 봅시다.  \n",
    "그래프의 기울기와 절편은 어떻게 될까요?"
   ]
  },
  {
   "cell_type": "code",
   "execution_count": 67,
   "metadata": {},
   "outputs": [
    {
     "data": {
      "image/png": "[encoded data removed]",
      "text/plain": [
       "<Figure size 432x288 with 1 Axes>"
      ]
     },
     "metadata": {
      "needs_background": "light"
     },
     "output_type": "display_data"
    },
    {
     "name": "stdout",
     "output_type": "stream",
     "text": [
      "[0.06654913] 1.7072321959075258\n"
     ]
    }
   ],
   "source": [
    "### P.5-6\n",
    "plt.plot(X,housing_line.predict(X.values.reshape(-1,1)))\n",
    "plt.show()\n",
    "print(housing_line.coef_, housing_line.intercept_)\n",
    "###"
   ]
  },
  {
   "cell_type": "markdown",
   "metadata": {},
   "source": [
    "## P.5-7\n",
    "방금 생성한 그래프 위에,\n",
    "test 데이터의 실제 정답(주택 가격)을 산점도로 시각화해봅시다. "
   ]
  },
  {
   "cell_type": "code",
   "execution_count": 68,
   "metadata": {},
   "outputs": [
    {
     "data": {
      "image/png": "[encoded data removed]",
      "text/plain": [
       "<Figure size 432x288 with 1 Axes>"
      ]
     },
     "metadata": {
      "needs_background": "light"
     },
     "output_type": "display_data"
    }
   ],
   "source": [
    "### P.5-7\n",
    "plt.plot(X,housing_line.predict(X.values.reshape(-1,1)))\n",
    "plt.plot(X,housing_df['value'],'o')\n",
    "plt.show()\n",
    "###"
   ]
  },
  {
   "cell_type": "markdown",
   "metadata": {},
   "source": [
    "## P.5-8\n",
    "회귀 분석 모델에 점수를 매길 수 있을까요?\n",
    "분류 모델에는 정확도(Accuracy)가 있다면, 회귀 모델에는 평균 제곱 오차(MSE, Mean Square Error)가 있습니다.  \n",
    "생성한 모델의 MSE를 구해봅시다!  \n",
    "\n",
    "MSE의 설명은 [링크](https://dyndy.tistory.com/179)를 참고해주세요.\n"
   ]
  },
  {
   "cell_type": "code",
   "execution_count": 120,
   "metadata": {},
   "outputs": [
    {
     "data": {
      "text/plain": [
       "0.09996210436338564"
      ]
     },
     "execution_count": 120,
     "metadata": {},
     "output_type": "execute_result"
    }
   ],
   "source": [
    "### P.5-8\n",
    "def MSE(y,t):\n",
    "    return (1/2)*(np.sum(y-t)**2)\n",
    "\n",
    "MSE(housing_line.predict(x_test.values.reshape(-1,1)),y_test)\n",
    "\n",
    "###"
   ]
  },
  {
   "cell_type": "markdown",
   "metadata": {},
   "source": [
    "## P.5-9\n",
    "다른 Feature를 이용하여 선형 회귀 모델을 제작해봅시다!  \n",
    "선택하는 feature는 자유입니다.  \n",
    "AveRooms Feature보다 성능(MSE)의 개선이 있었나요?  "
   ]
  },
  {
   "cell_type": "code",
   "execution_count": 117,
   "metadata": {},
   "outputs": [
    {
     "data": {
      "text/plain": [
       "13.022555209500014"
      ]
     },
     "execution_count": 117,
     "metadata": {},
     "output_type": "execute_result"
    }
   ],
   "source": [
    "### P.5-9\n",
    "X2 = housing_df['MedInc']\n",
    "x_train2, x_test2, y_train2, y_test2 = train_test_split(X2,y)\n",
    "housing_line_Inc = LinearRegression()\n",
    "housing_line_Inc.fit(x_train2.values.reshape(-1,1),y_train2)\n",
    "\n",
    "MSE(housing_line_Inc.predict(x_test2.values.reshape(-1,1)),y_test2)\n",
    "###"
   ]
  },
  {
   "cell_type": "markdown",
   "metadata": {},
   "source": [
    "## P.5-10\n",
    "지금까지는 단순선형회귀로 문제를 해결해보고자 했습니다.  \n",
    "이번에는 다중선형회귀모델로 즉, 여러개의 변수 X를 이용하여 문제를 해결해봅시다.  \n",
    "적절한 Feature들을 선택하여 다중선형회귀모델을 제작해봅시다!  \n",
    "이전 모델들보다 MSE의 성능(MSE)이 있었나요? "
   ]
  },
  {
   "cell_type": "code",
   "execution_count": 37,
   "metadata": {},
   "outputs": [],
   "source": [
    "### P.5-10\n",
    "###"
   ]
  },
  {
   "cell_type": "code",
   "execution_count": null,
   "metadata": {},
   "outputs": [],
   "source": []
  },
  {
   "cell_type": "code",
   "execution_count": null,
   "metadata": {},
   "outputs": [],
   "source": []
  }
 ],
 "metadata": {
  "kernelspec": {
   "display_name": "Python 3",
   "language": "python",
   "name": "python3"
  },
  "language_info": {
   "codemirror_mode": {
    "name": "ipython",
    "version": 3
   },
   "file_extension": ".py",
   "mimetype": "text/x-python",
   "name": "python",
   "nbconvert_exporter": "python",
   "pygments_lexer": "ipython3",
   "version": "3.7.3"
  }
 },
 "nbformat": 4,
 "nbformat_minor": 2
}
